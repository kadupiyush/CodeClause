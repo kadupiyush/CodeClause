{
 "cells": [
  {
   "cell_type": "code",
   "execution_count": 1,
   "id": "5827c50f",
   "metadata": {},
   "outputs": [
    {
     "name": "stdout",
     "output_type": "stream",
     "text": [
      "Enter the URL to shorten: http://jupiter_notebook.com\n",
      "Shortened URL:  https://tinyurl.com/25zb2j2p\n"
     ]
    }
   ],
   "source": [
    "import pyshorteners\n",
    "\n",
    "url = input(\"Enter the URL to shorten: \")\n",
    "\n",
    "s = pyshorteners.Shortener()\n",
    "\n",
    "short_url = s.tinyurl.short(url)\n",
    "\n",
    "print(\"Shortened URL: \", short_url)\n"
   ]
  },
  {
   "cell_type": "code",
   "execution_count": null,
   "id": "8d03e629",
   "metadata": {},
   "outputs": [],
   "source": []
  }
 ],
 "metadata": {
  "kernelspec": {
   "display_name": "Python 3 (ipykernel)",
   "language": "python",
   "name": "python3"
  },
  "language_info": {
   "codemirror_mode": {
    "name": "ipython",
    "version": 3
   },
   "file_extension": ".py",
   "mimetype": "text/x-python",
   "name": "python",
   "nbconvert_exporter": "python",
   "pygments_lexer": "ipython3",
   "version": "3.9.12"
  }
 },
 "nbformat": 4,
 "nbformat_minor": 5
}
