{
 "cells": [
  {
   "cell_type": "code",
   "execution_count": 1,
   "id": "811268c4",
   "metadata": {},
   "outputs": [
    {
     "name": "stdout",
     "output_type": "stream",
     "text": [
      "Listening...\n",
      "Sorry, could not understand. Please try again.\n",
      "Listening...\n",
      "You said: goodbye\n"
     ]
    }
   ],
   "source": [
    "import speech_recognition as sr\n",
    "import pyttsx3\n",
    "\n",
    "r = sr.Recognizer()\n",
    "engine = pyttsx3.init()\n",
    "\n",
    "def speak(text):\n",
    "    engine.say(text)\n",
    "    engine.runAndWait()\n",
    "\n",
    "def listen():\n",
    "    with sr.Microphone() as source:\n",
    "        print(\"Listening...\")\n",
    "        audio = r.listen(source)\n",
    "        try:\n",
    "            text = r.recognize_google(audio)\n",
    "            print(f\"You said: {text}\")\n",
    "            return text\n",
    "        except:\n",
    "            print(\"Sorry, could not understand. Please try again.\")\n",
    "            return \"\"\n",
    "\n",
    "while True:\n",
    "    command = listen().lower()\n",
    "\n",
    "    # Speak this command \n",
    "    if \"hello\" in command:\n",
    "        speak(\"Hello! How can I help you?\")\n",
    "    elif \"goodbye\" in command:\n",
    "        speak(\"Goodbye!\")\n",
    "        break\n",
    "    else:\n",
    "        speak(\"Sorry, I did not understand.\")\n"
   ]
  },
  {
   "cell_type": "code",
   "execution_count": null,
   "id": "b12078f2",
   "metadata": {},
   "outputs": [],
   "source": []
  }
 ],
 "metadata": {
  "kernelspec": {
   "display_name": "Python 3 (ipykernel)",
   "language": "python",
   "name": "python3"
  },
  "language_info": {
   "codemirror_mode": {
    "name": "ipython",
    "version": 3
   },
   "file_extension": ".py",
   "mimetype": "text/x-python",
   "name": "python",
   "nbconvert_exporter": "python",
   "pygments_lexer": "ipython3",
   "version": "3.9.12"
  }
 },
 "nbformat": 4,
 "nbformat_minor": 5
}
